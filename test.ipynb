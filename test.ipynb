{
 "cells": [
  {
   "cell_type": "code",
   "execution_count": 25,
   "metadata": {},
   "outputs": [
    {
     "data": {
      "image/png": "[encoded data removed]",
      "text/plain": [
       "<Figure size 432x288 with 1 Axes>"
      ]
     },
     "metadata": {
      "needs_background": "light"
     },
     "output_type": "display_data"
    }
   ],
   "source": [
    "import librosa\n",
    "\n",
    "y, sr = librosa.load('0452.wav')\n",
    "\n",
    "len(y)\n",
    "\n",
    "t = len(y) / sr\n",
    "\n",
    "type(y) \n",
    "\n",
    "import numpy as np\n",
    "y[:10]\n",
    "\n",
    "y[-10:]\n",
    "\n",
    "import matplotlib.pyplot as plt\n",
    "plt.plot(y)\n",
    "plt.show()"
   ]
  },
  {
   "cell_type": "code",
   "execution_count": 11,
   "metadata": {},
   "outputs": [],
   "source": [
    "import soundfile as sf\n",
    "import sounddevice as sd"
   ]
  },
  {
   "cell_type": "code",
   "execution_count": 14,
   "metadata": {},
   "outputs": [
    {
     "name": "stdout",
     "output_type": "stream",
     "text": [
      "abc\n"
     ]
    }
   ],
   "source": [
    "def async_playback(filename):\n",
    "    data, sr = sf.read(filename)\n",
    "    sd.play(data, sr)\n",
    "    return data, sr\n",
    "\n",
    "data, sr = async_playback('piano.wav')\n",
    "print('abc')"
   ]
  },
  {
   "cell_type": "code",
   "execution_count": 15,
   "metadata": {},
   "outputs": [
    {
     "data": {
      "text/plain": [
       "  0 HDA Intel HDMI: 0 (hw:0,3), ALSA (0 in, 2 out)\n",
       "  1 HDA Intel HDMI: 1 (hw:0,7), ALSA (0 in, 8 out)\n",
       "  2 HDA Intel HDMI: 2 (hw:0,8), ALSA (0 in, 8 out)\n",
       "  3 HDA Intel HDMI: 3 (hw:0,9), ALSA (0 in, 8 out)\n",
       "  4 HDA Intel HDMI: 4 (hw:0,10), ALSA (0 in, 8 out)\n",
       "  5 HDA Intel PCH: ALC3234 Analog (hw:1,0), ALSA (2 in, 2 out)\n",
       "  6 hdmi, ALSA (0 in, 2 out)\n",
       "  7 pulse, ALSA (32 in, 32 out)\n",
       "* 8 default, ALSA (32 in, 32 out)"
      ]
     },
     "execution_count": 15,
     "metadata": {},
     "output_type": "execute_result"
    }
   ],
   "source": [
    "misc = sd.query_devices()\n",
    "misc"
   ]
  },
  {
   "cell_type": "code",
   "execution_count": 16,
   "metadata": {},
   "outputs": [
    {
     "data": {
      "text/plain": [
       "  0 HDA Intel HDMI: 0 (hw:0,3), ALSA (0 in, 2 out)\n",
       "  1 HDA Intel HDMI: 1 (hw:0,7), ALSA (0 in, 8 out)\n",
       "  2 HDA Intel HDMI: 2 (hw:0,8), ALSA (0 in, 8 out)\n",
       "  3 HDA Intel HDMI: 3 (hw:0,9), ALSA (0 in, 8 out)\n",
       "  4 HDA Intel HDMI: 4 (hw:0,10), ALSA (0 in, 8 out)\n",
       "  5 HDA Intel PCH: ALC3234 Analog (hw:1,0), ALSA (2 in, 2 out)\n",
       "  6 hdmi, ALSA (0 in, 2 out)\n",
       "  7 pulse, ALSA (32 in, 32 out)\n",
       "* 8 default, ALSA (32 in, 32 out)"
      ]
     },
     "execution_count": 16,
     "metadata": {},
     "output_type": "execute_result"
    }
   ],
   "source": [
    "misc"
   ]
  },
  {
   "cell_type": "code",
   "execution_count": 17,
   "metadata": {},
   "outputs": [
    {
     "name": "stdout",
     "output_type": "stream",
     "text": [
      "recording\n",
      "done recording\n"
     ]
    }
   ],
   "source": [
    "def sync_record(filename, duration, sr, channels):\n",
    "    print('recording')\n",
    "    my_rec = sd.rec(samplerate=sr, channels=channels, frames=int(duration*sr))\n",
    "    sd.wait()\n",
    "    sf.write(filename, data=my_rec, samplerate=sr)\n",
    "    print('done recording')\n",
    "sync_record('record.wav', 3, 22050, 1)"
   ]
  },
  {
   "cell_type": "code",
   "execution_count": 29,
   "metadata": {},
   "outputs": [
    {
     "data": {
      "text/plain": [
       "(array([-3.05175781e-05, -3.05175781e-05,  0.00000000e+00, ...,\n",
       "         7.78198242e-03,  7.32421875e-03,  3.08227539e-03]),\n",
       " 22000)"
      ]
     },
     "execution_count": 29,
     "metadata": {},
     "output_type": "execute_result"
    }
   ],
   "source": [
    "async_playback('vnexpress/thoi_su/cau_2.wav')"
   ]
  }
 ],
 "metadata": {
  "kernelspec": {
   "display_name": "Python 3",
   "language": "python",
   "name": "python3"
  },
  "language_info": {
   "codemirror_mode": {
    "name": "ipython",
    "version": 3
   },
   "file_extension": ".py",
   "mimetype": "text/x-python",
   "name": "python",
   "nbconvert_exporter": "python",
   "pygments_lexer": "ipython3",
   "version": "3.7.7"
  }
 },
 "nbformat": 4,
 "nbformat_minor": 4
}
